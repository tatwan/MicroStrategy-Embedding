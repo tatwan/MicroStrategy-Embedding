{
 "cells": [
  {
   "cell_type": "markdown",
   "metadata": {},
   "source": [
    "# MicroStrategy Embedding - How to embed an interactive Dossier during your analysis\n",
    "\n",
    "### Python, JavaScript and HTML with Jupyter Magic commands\n",
    "\n",
    "Example: \n",
    "\n",
    "Demonstrate how to use Python to navigate and find the published Dossier we are interested in and display it inside Jupyter Notebook. This will give us an interactive Dossier for data analysis to better understand the data published by the business. This will be our exploratory step before loading the cube(s) into DataFrames. Here we get to understand the analysis done by the business, and how they like to analyse their own data to gain a better intuition. \n",
    "\n",
    "In this example I will show you how to use pure code all within Jupyter Notebook to accomplish this without having to go to MicroStrategy Web or needing to right-click to get object properties to obtain IDs.  \n",
    "\n",
    "This tutorial follows the **MicroStratety REST API with Python** examples here https://github.com/tatwan/MicroStratety-Python-REST-API and my previous blog on **How to Embed MicroStrategy Dossier with Jupyter Notebook** here http://www.tarekatwan.com/index.php/2018/01/how-to-embed-microstrategy-dossier-with-jupyter-notebook/"
   ]
  },
  {
   "cell_type": "code",
   "execution_count": 2,
   "metadata": {},
   "outputs": [],
   "source": [
    "import requests\n",
    "import json\n",
    "from pandas.io.json import json_normalize\n",
    "import pandas as pd"
   ]
  },
  {
   "cell_type": "markdown",
   "metadata": {},
   "source": [
    "### Create required parameters"
   ]
  },
  {
   "cell_type": "code",
   "execution_count": 3,
   "metadata": {},
   "outputs": [],
   "source": [
    "### Parameters ###\n",
    "username = 'Administrator'\n",
    "password = ''\n",
    "baseURL = \"http://dub-tatwan10.corp.microstrategy.com:8080/MicroStrategyLibrary/api/\""
   ]
  },
  {
   "cell_type": "markdown",
   "metadata": {},
   "source": [
    "Loading the python functions/script from the tutorial https://github.com/tatwan/MicroStratety-Python-REST-API by placing the code into a `mstr.py` file."
   ]
  },
  {
   "cell_type": "code",
   "execution_count": 4,
   "metadata": {},
   "outputs": [],
   "source": [
    "import mstr "
   ]
  },
  {
   "cell_type": "markdown",
   "metadata": {},
   "source": [
    "**Steps:**\n",
    "1. First we login to get `authToken` and a `sessionId` using our `login()` function\n",
    "2. Once we are authenticated we can list all the projects that we have access to using our `listProjects()` function\n",
    "3. We save the project ID of the project we are interested in into variable we will name `projectId`  \n",
    "4. We get the library using our `getLibrary()` function in order to find the Id of the published Dossier we are interested in. In this case we need the `id` from the `target` column and we will save it into `libraryId` variable"
   ]
  },
  {
   "cell_type": "code",
   "execution_count": 5,
   "metadata": {},
   "outputs": [
    {
     "name": "stdout",
     "output_type": "stream",
     "text": [
      "Token: 8fa2ngoiak50597n968cpo7so7\n",
      "Session ID: {'JSESSIONID': '2E05323BE41684698BF62C35AE9900BB'}\n"
     ]
    }
   ],
   "source": [
    "#step 1 - authenticate \n",
    "authToken, sessionId = mstr.login(baseURL, username, password)"
   ]
  },
  {
   "cell_type": "code",
   "execution_count": 6,
   "metadata": {},
   "outputs": [
    {
     "data": {
      "text/html": [
       "<div>\n",
       "<style scoped>\n",
       "    .dataframe tbody tr th:only-of-type {\n",
       "        vertical-align: middle;\n",
       "    }\n",
       "\n",
       "    .dataframe tbody tr th {\n",
       "        vertical-align: top;\n",
       "    }\n",
       "\n",
       "    .dataframe thead th {\n",
       "        text-align: right;\n",
       "    }\n",
       "</style>\n",
       "<table border=\"1\" class=\"dataframe\">\n",
       "  <thead>\n",
       "    <tr style=\"text-align: right;\">\n",
       "      <th></th>\n",
       "      <th>id</th>\n",
       "      <th>name</th>\n",
       "      <th>description</th>\n",
       "      <th>status</th>\n",
       "    </tr>\n",
       "  </thead>\n",
       "  <tbody>\n",
       "    <tr>\n",
       "      <th>0</th>\n",
       "      <td>B19DEDCC11D4E0EFC000EB9495D0F44F</td>\n",
       "      <td>MicroStrategy Tutorial</td>\n",
       "      <td>MicroStrategy Tutorial project and application...</td>\n",
       "      <td>0</td>\n",
       "    </tr>\n",
       "    <tr>\n",
       "      <th>1</th>\n",
       "      <td>AF09B3E3458F78B4FBE4DEB68528BF7B</td>\n",
       "      <td>Human Resources Analysis Module</td>\n",
       "      <td>The Human Resources Analysis Module analyses w...</td>\n",
       "      <td>0</td>\n",
       "    </tr>\n",
       "    <tr>\n",
       "      <th>2</th>\n",
       "      <td>4DD3B04B40D227471401609D630C76ED</td>\n",
       "      <td>Enterprise Manager</td>\n",
       "      <td></td>\n",
       "      <td>0</td>\n",
       "    </tr>\n",
       "  </tbody>\n",
       "</table>\n",
       "</div>"
      ],
      "text/plain": [
       "                                 id                             name  \\\n",
       "0  B19DEDCC11D4E0EFC000EB9495D0F44F           MicroStrategy Tutorial   \n",
       "1  AF09B3E3458F78B4FBE4DEB68528BF7B  Human Resources Analysis Module   \n",
       "2  4DD3B04B40D227471401609D630C76ED               Enterprise Manager   \n",
       "\n",
       "                                         description  status  \n",
       "0  MicroStrategy Tutorial project and application...       0  \n",
       "1  The Human Resources Analysis Module analyses w...       0  \n",
       "2                                                          0  "
      ]
     },
     "execution_count": 6,
     "metadata": {},
     "output_type": "execute_result"
    }
   ],
   "source": [
    "#step 2 - search  projects\n",
    "projectList = mstr.listProjects(baseURL, authToken, sessionId)\n",
    "projectList"
   ]
  },
  {
   "cell_type": "code",
   "execution_count": 7,
   "metadata": {},
   "outputs": [
    {
     "data": {
      "text/plain": [
       "'B19DEDCC11D4E0EFC000EB9495D0F44F'"
      ]
     },
     "execution_count": 7,
     "metadata": {},
     "output_type": "execute_result"
    }
   ],
   "source": [
    "#step 3 - Get the project ID of the project we are interested in \n",
    "projectId = projectList.iloc[0][0]\n",
    "projectId"
   ]
  },
  {
   "cell_type": "code",
   "execution_count": 8,
   "metadata": {},
   "outputs": [
    {
     "data": {
      "text/html": [
       "<div>\n",
       "<style scoped>\n",
       "    .dataframe tbody tr th:only-of-type {\n",
       "        vertical-align: middle;\n",
       "    }\n",
       "\n",
       "    .dataframe tbody tr th {\n",
       "        vertical-align: top;\n",
       "    }\n",
       "\n",
       "    .dataframe thead th {\n",
       "        text-align: right;\n",
       "    }\n",
       "</style>\n",
       "<table border=\"1\" class=\"dataframe\">\n",
       "  <thead>\n",
       "    <tr style=\"text-align: right;\">\n",
       "      <th></th>\n",
       "      <th>id</th>\n",
       "      <th>name</th>\n",
       "      <th>projectId</th>\n",
       "      <th>active</th>\n",
       "      <th>lastViewedTime</th>\n",
       "      <th>target</th>\n",
       "    </tr>\n",
       "  </thead>\n",
       "  <tbody>\n",
       "    <tr>\n",
       "      <th>0</th>\n",
       "      <td>21A521BA4DB47ADAEBE19E9E9F7EC7D9</td>\n",
       "      <td>Executive Business User Data Dossier</td>\n",
       "      <td>B19DEDCC11D4E0EFC000EB9495D0F44F</td>\n",
       "      <td>True</td>\n",
       "      <td>2018-08-10T19:36:00.000+0000</td>\n",
       "      <td>FC6E8B6F4950540FC3595093E0FBA306</td>\n",
       "    </tr>\n",
       "    <tr>\n",
       "      <th>1</th>\n",
       "      <td>80AFEAD447DE2430F7E41FBB1B1EFCBA</td>\n",
       "      <td>Category Breakdown Dossier</td>\n",
       "      <td>B19DEDCC11D4E0EFC000EB9495D0F44F</td>\n",
       "      <td>True</td>\n",
       "      <td>2018-08-10T18:55:49.000+0000</td>\n",
       "      <td>95005DFF4C4829CF5EE6E98877726566</td>\n",
       "    </tr>\n",
       "  </tbody>\n",
       "</table>\n",
       "</div>"
      ],
      "text/plain": [
       "                                 id                                  name  \\\n",
       "0  21A521BA4DB47ADAEBE19E9E9F7EC7D9  Executive Business User Data Dossier   \n",
       "1  80AFEAD447DE2430F7E41FBB1B1EFCBA            Category Breakdown Dossier   \n",
       "\n",
       "                          projectId  active                lastViewedTime  \\\n",
       "0  B19DEDCC11D4E0EFC000EB9495D0F44F    True  2018-08-10T19:36:00.000+0000   \n",
       "1  B19DEDCC11D4E0EFC000EB9495D0F44F    True  2018-08-10T18:55:49.000+0000   \n",
       "\n",
       "                             target  \n",
       "0  FC6E8B6F4950540FC3595093E0FBA306  \n",
       "1  95005DFF4C4829CF5EE6E98877726566  "
      ]
     },
     "execution_count": 8,
     "metadata": {},
     "output_type": "execute_result"
    }
   ],
   "source": [
    "# step 4 - Get the library List\n",
    "libraryList = mstr.getLibrary(baseURL, authToken, sessionId, 'DEFAULT')\n",
    "libraryList"
   ]
  },
  {
   "cell_type": "code",
   "execution_count": 9,
   "metadata": {},
   "outputs": [
    {
     "data": {
      "text/plain": [
       "'FC6E8B6F4950540FC3595093E0FBA306'"
      ]
     },
     "execution_count": 9,
     "metadata": {},
     "output_type": "execute_result"
    }
   ],
   "source": [
    "#Get the Target ID for the published Dossier we want to embed\n",
    "libraryId = libraryList.iloc[0][5]\n",
    "libraryId"
   ]
  },
  {
   "cell_type": "markdown",
   "metadata": {},
   "source": [
    "Using iPython magic cell we use `%%html` to specifiy were we want to display our Dossier.  \n",
    "\n",
    "Dossier will be displayed right below this `%5html` cell once the `%%javascript` cell is executed. "
   ]
  },
  {
   "cell_type": "code",
   "execution_count": 18,
   "metadata": {},
   "outputs": [
    {
     "data": {
      "text/html": [
       "<script type=\"text/javascript\" src=\"http://dub-tatwan10.corp.microstrategy.com:8080/MicroStrategyLibrary/javascript/embeddinglib.js\"></script>\n",
       "<div id=\"dossier1\"></div>"
      ],
      "text/plain": [
       "<IPython.core.display.HTML object>"
      ]
     },
     "metadata": {},
     "output_type": "display_data"
    }
   ],
   "source": [
    "%%html\n",
    "<script type=\"text/javascript\" src=\"http://dub-tatwan10.corp.microstrategy.com:8080/MicroStrategyLibrary/javascript/embeddinglib.js\"></script>\n",
    "<div id=\"dossier1\"></div>"
   ]
  },
  {
   "cell_type": "markdown",
   "metadata": {},
   "source": [
    "Again, using another iPython magic cell with `%%javascript` to load our Dossier "
   ]
  },
  {
   "cell_type": "code",
   "execution_count": 19,
   "metadata": {},
   "outputs": [
    {
     "data": {
      "application/javascript": [
       "// we copy the projectID and libraryId and use them for the JavaScript variables below\n",
       "var projectId = 'B19DEDCC11D4E0EFC000EB9495D0F44F' //IPython.notebook.kernel.execute(projectId);\n",
       "var libraryId = 'FC6E8B6F4950540FC3595093E0FBA306' //IPython.notebook.kernel.execute(libraryId);\n",
       "\n",
       "var container = document.getElementById(\"dossier1\"),\n",
       " \n",
       "    url = \"http://dub-tatwan10.corp.microstrategy.com:8080/MicroStrategyLibrary/app/\" + projectId + '/' + libraryId;\n",
       " \n",
       "    microstrategy.dossier.create({\n",
       " \n",
       "          url: url,\n",
       " \n",
       "          enableResponsive: true,\n",
       " \n",
       "          placeholder: container\n",
       "       })"
      ],
      "text/plain": [
       "<IPython.core.display.Javascript object>"
      ]
     },
     "metadata": {},
     "output_type": "display_data"
    }
   ],
   "source": [
    "%%javascript\n",
    "// we copy the projectID and libraryId and use them for the JavaScript variables below\n",
    "var projectId = 'B19DEDCC11D4E0EFC000EB9495D0F44F' //IPython.notebook.kernel.execute(projectId);\n",
    "var libraryId = 'FC6E8B6F4950540FC3595093E0FBA306' //IPython.notebook.kernel.execute(libraryId);\n",
    "\n",
    "var container = document.getElementById(\"dossier1\"),\n",
    " \n",
    "    url = \"http://dub-tatwan10.corp.microstrategy.com:8080/MicroStrategyLibrary/app/\" + projectId + '/' + libraryId;\n",
    " \n",
    "    microstrategy.dossier.create({\n",
    " \n",
    "          url: url,\n",
    " \n",
    "          enableResponsive: true,\n",
    " \n",
    "          placeholder: container\n",
    "       })\n"
   ]
  },
  {
   "cell_type": "code",
   "execution_count": null,
   "metadata": {},
   "outputs": [],
   "source": []
  }
 ],
 "metadata": {
  "kernelspec": {
   "display_name": "Python 3",
   "language": "python",
   "name": "python3"
  },
  "language_info": {
   "codemirror_mode": {
    "name": "ipython",
    "version": 3
   },
   "file_extension": ".py",
   "mimetype": "text/x-python",
   "name": "python",
   "nbconvert_exporter": "python",
   "pygments_lexer": "ipython3",
   "version": "3.6.4"
  }
 },
 "nbformat": 4,
 "nbformat_minor": 2
}
