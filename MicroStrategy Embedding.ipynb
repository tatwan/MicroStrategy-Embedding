{
 "cells": [
  {
   "cell_type": "markdown",
   "metadata": {},
   "source": [
    "# MicroStrategy Embedding - How to embed an interactive Dossier during your analysis within Jupyter Notebook\n",
    "\n",
    "### Python, JavaScript and HTML with Jupyter magic cells\n",
    "\n",
    "Scenario: \n",
    "\n",
    "To demonstrate how to use a python Jupyter Notebook to navigate and find the Dossier we are interested in, display it inside Jupyter Notebook for interactive data analysis. This will help us better understand the data as published by business and before we start loading the data from the cube(s) into DataFrames. This way we will get better insight into the type of analysis done by the business, and how they prefer to see and digest their data to help us gain a better intuition about the business use case(s) and driver.\n",
    "\n",
    "In this example I will show you how to use pure code all within Jupyter Notebook to accomplish this without having to go to MicroStrategy Web or needing to right-click to get object properties to obtain IDs for the project or document.  \n",
    "\n",
    "This tutorial follows the **MicroStratety REST API with Python** examples here https://github.com/tatwan/MicroStratety-Python-REST-API and my previous blog on **How to Embed MicroStrategy Dossier with Jupyter Notebook** here http://www.tarekatwan.com/index.php/2018/01/how-to-embed-microstrategy-dossier-with-jupyter-notebook/  \n",
    "\n",
    "### We start by loading the Python libraries"
   ]
  },
  {
   "cell_type": "code",
   "execution_count": null,
   "metadata": {},
   "outputs": [],
   "source": [
    "import requests\n",
    "import json\n",
    "from pandas.io.json import json_normalize\n",
    "import pandas as pd"
   ]
  },
  {
   "cell_type": "markdown",
   "metadata": {},
   "source": [
    "### Define our parameters \n",
    "`username`. `password`, and `baseURL`"
   ]
  },
  {
   "cell_type": "code",
   "execution_count": 4,
   "metadata": {},
   "outputs": [],
   "source": [
    "### Parameters ###\n",
    "username = 'Administrator'\n",
    "password = ''\n",
    "baseURL = \"http://yourMstrEnv/MicroStrategyLibrary/api/\""
   ]
  },
  {
   "cell_type": "markdown",
   "metadata": {},
   "source": [
    "Next we load our python functions from this tutorial https://github.com/tatwan/MicroStratety-Python-REST-API . All that was done is placing the python code/script into a `mstr.py` file then we use `import mstr`. You can name the file anything you want."
   ]
  },
  {
   "cell_type": "code",
   "execution_count": 5,
   "metadata": {},
   "outputs": [],
   "source": [
    "import mstr "
   ]
  },
  {
   "cell_type": "markdown",
   "metadata": {},
   "source": [
    "### Steps:\n",
    "1. First we authenticate to get `authToken` and `sessionId` using the `login()` function \n",
    "2. After we are authenticated, we will list all the projects that we have access to using our `listProjects()` function\n",
    "3. Select the project you want and save the `id` of that project into variable we will name `projectId`  \n",
    "4. Next we list our library using the `getLibrary()` function in order to find the `id` of the published Dossier we are interested in. In this case we need the `id` from the `target` column and we will save it into `libraryId` variable. To get the `target` columns we pass `DEFAULT` for the flag parameter. If we use `FILTER_TOC` we don't get that column."
   ]
  },
  {
   "cell_type": "code",
   "execution_count": 6,
   "metadata": {},
   "outputs": [
    {
     "name": "stdout",
     "output_type": "stream",
     "text": [
      "Token: 4gbumu5r3fa49hiueniabur9vb\n",
      "Session ID: {'JSESSIONID': '63DDC2C2CAD119E0FC8F82EEA3C6AFE4'}\n"
     ]
    }
   ],
   "source": [
    "#step 1 - authenticate \n",
    "\n",
    "authToken, sessionId = mstr.login(baseURL, username, password)"
   ]
  },
  {
   "cell_type": "code",
   "execution_count": 7,
   "metadata": {},
   "outputs": [
    {
     "data": {
      "text/html": [
       "<div>\n",
       "<style scoped>\n",
       "    .dataframe tbody tr th:only-of-type {\n",
       "        vertical-align: middle;\n",
       "    }\n",
       "\n",
       "    .dataframe tbody tr th {\n",
       "        vertical-align: top;\n",
       "    }\n",
       "\n",
       "    .dataframe thead th {\n",
       "        text-align: right;\n",
       "    }\n",
       "</style>\n",
       "<table border=\"1\" class=\"dataframe\">\n",
       "  <thead>\n",
       "    <tr style=\"text-align: right;\">\n",
       "      <th></th>\n",
       "      <th>id</th>\n",
       "      <th>name</th>\n",
       "      <th>description</th>\n",
       "      <th>status</th>\n",
       "    </tr>\n",
       "  </thead>\n",
       "  <tbody>\n",
       "    <tr>\n",
       "      <th>0</th>\n",
       "      <td>B19DEDCC11D4E0EFC000EB9495D0F44F</td>\n",
       "      <td>MicroStrategy Tutorial</td>\n",
       "      <td>MicroStrategy Tutorial project and application...</td>\n",
       "      <td>0</td>\n",
       "    </tr>\n",
       "    <tr>\n",
       "      <th>1</th>\n",
       "      <td>AF09B3E3458F78B4FBE4DEB68528BF7B</td>\n",
       "      <td>Human Resources Analysis Module</td>\n",
       "      <td>The Human Resources Analysis Module analyses w...</td>\n",
       "      <td>0</td>\n",
       "    </tr>\n",
       "    <tr>\n",
       "      <th>2</th>\n",
       "      <td>4DD3B04B40D227471401609D630C76ED</td>\n",
       "      <td>Enterprise Manager</td>\n",
       "      <td></td>\n",
       "      <td>0</td>\n",
       "    </tr>\n",
       "  </tbody>\n",
       "</table>\n",
       "</div>"
      ],
      "text/plain": [
       "                                 id                             name  \\\n",
       "0  B19DEDCC11D4E0EFC000EB9495D0F44F           MicroStrategy Tutorial   \n",
       "1  AF09B3E3458F78B4FBE4DEB68528BF7B  Human Resources Analysis Module   \n",
       "2  4DD3B04B40D227471401609D630C76ED               Enterprise Manager   \n",
       "\n",
       "                                         description  status  \n",
       "0  MicroStrategy Tutorial project and application...       0  \n",
       "1  The Human Resources Analysis Module analyses w...       0  \n",
       "2                                                          0  "
      ]
     },
     "execution_count": 7,
     "metadata": {},
     "output_type": "execute_result"
    }
   ],
   "source": [
    "#step 2 - search  projects\n",
    "\n",
    "projectList = mstr.listProjects(baseURL, authToken, sessionId)\n",
    "projectList"
   ]
  },
  {
   "cell_type": "code",
   "execution_count": 8,
   "metadata": {},
   "outputs": [
    {
     "data": {
      "text/plain": [
       "'B19DEDCC11D4E0EFC000EB9495D0F44F'"
      ]
     },
     "execution_count": 8,
     "metadata": {},
     "output_type": "execute_result"
    }
   ],
   "source": [
    "#step 3 - Get the project ID of the project we are interested in \n",
    "# Tuorial Project (first row)\n",
    "\n",
    "projectId = projectList.iloc[0][0]\n",
    "projectId"
   ]
  },
  {
   "cell_type": "code",
   "execution_count": 9,
   "metadata": {},
   "outputs": [
    {
     "data": {
      "text/html": [
       "<div>\n",
       "<style scoped>\n",
       "    .dataframe tbody tr th:only-of-type {\n",
       "        vertical-align: middle;\n",
       "    }\n",
       "\n",
       "    .dataframe tbody tr th {\n",
       "        vertical-align: top;\n",
       "    }\n",
       "\n",
       "    .dataframe thead th {\n",
       "        text-align: right;\n",
       "    }\n",
       "</style>\n",
       "<table border=\"1\" class=\"dataframe\">\n",
       "  <thead>\n",
       "    <tr style=\"text-align: right;\">\n",
       "      <th></th>\n",
       "      <th>id</th>\n",
       "      <th>name</th>\n",
       "      <th>projectId</th>\n",
       "      <th>active</th>\n",
       "      <th>lastViewedTime</th>\n",
       "      <th>target</th>\n",
       "    </tr>\n",
       "  </thead>\n",
       "  <tbody>\n",
       "    <tr>\n",
       "      <th>0</th>\n",
       "      <td>1B979449411E30E4E4502F918158EA40</td>\n",
       "      <td>Category Analysis</td>\n",
       "      <td>B19DEDCC11D4E0EFC000EB9495D0F44F</td>\n",
       "      <td>True</td>\n",
       "      <td>2018-08-11T07:49:40.000+0000</td>\n",
       "      <td>512EDAA1487128DBBCA43E8525E10A11</td>\n",
       "    </tr>\n",
       "    <tr>\n",
       "      <th>1</th>\n",
       "      <td>21A521BA4DB47ADAEBE19E9E9F7EC7D9</td>\n",
       "      <td>Executive Business User Data Dossier</td>\n",
       "      <td>B19DEDCC11D4E0EFC000EB9495D0F44F</td>\n",
       "      <td>True</td>\n",
       "      <td>2018-08-10T19:36:00.000+0000</td>\n",
       "      <td>FC6E8B6F4950540FC3595093E0FBA306</td>\n",
       "    </tr>\n",
       "    <tr>\n",
       "      <th>2</th>\n",
       "      <td>80AFEAD447DE2430F7E41FBB1B1EFCBA</td>\n",
       "      <td>Category Breakdown Dossier</td>\n",
       "      <td>B19DEDCC11D4E0EFC000EB9495D0F44F</td>\n",
       "      <td>True</td>\n",
       "      <td>2018-08-10T21:36:32.000+0000</td>\n",
       "      <td>95005DFF4C4829CF5EE6E98877726566</td>\n",
       "    </tr>\n",
       "  </tbody>\n",
       "</table>\n",
       "</div>"
      ],
      "text/plain": [
       "                                 id                                  name  \\\n",
       "0  1B979449411E30E4E4502F918158EA40                     Category Analysis   \n",
       "1  21A521BA4DB47ADAEBE19E9E9F7EC7D9  Executive Business User Data Dossier   \n",
       "2  80AFEAD447DE2430F7E41FBB1B1EFCBA            Category Breakdown Dossier   \n",
       "\n",
       "                          projectId  active                lastViewedTime  \\\n",
       "0  B19DEDCC11D4E0EFC000EB9495D0F44F    True  2018-08-11T07:49:40.000+0000   \n",
       "1  B19DEDCC11D4E0EFC000EB9495D0F44F    True  2018-08-10T19:36:00.000+0000   \n",
       "2  B19DEDCC11D4E0EFC000EB9495D0F44F    True  2018-08-10T21:36:32.000+0000   \n",
       "\n",
       "                             target  \n",
       "0  512EDAA1487128DBBCA43E8525E10A11  \n",
       "1  FC6E8B6F4950540FC3595093E0FBA306  \n",
       "2  95005DFF4C4829CF5EE6E98877726566  "
      ]
     },
     "execution_count": 9,
     "metadata": {},
     "output_type": "execute_result"
    }
   ],
   "source": [
    "# step 4 - Get the library List\n",
    "# Here we see we have THREE published dossiers\n",
    "\n",
    "libraryList = mstr.getLibrary(baseURL, authToken, sessionId, 'DEFAULT')\n",
    "libraryList"
   ]
  },
  {
   "cell_type": "code",
   "execution_count": 10,
   "metadata": {},
   "outputs": [
    {
     "data": {
      "text/plain": [
       "'512EDAA1487128DBBCA43E8525E10A11'"
      ]
     },
     "execution_count": 10,
     "metadata": {},
     "output_type": "execute_result"
    }
   ],
   "source": [
    "#Get the Target ID for the published Dossier we want to embed\n",
    "# In this case I want 'Categry Analysis' first row, and I want the fifth column 'Target' id\n",
    "\n",
    "libraryId = libraryList.iloc[0][5]\n",
    "libraryId"
   ]
  },
  {
   "cell_type": "markdown",
   "metadata": {},
   "source": [
    "Using iPython magic cell we use `%%html` to specifiy were we want to display our Dossier. Here we load the `embeddinglib.js` JavaScript library provided by MicroStrategy. Then we add our `<script></script>` which includes our javaccript code. You can also separate the javascript in a separate cell using the `%%javascript` magic cell as well.\n",
    "\n",
    "Dossier will be displayed right below this `%%html` cell"
   ]
  },
  {
   "cell_type": "code",
   "execution_count": 12,
   "metadata": {
    "scrolled": false
   },
   "outputs": [
    {
     "data": {
      "text/html": [
       "\n",
       "<link rel=\"stylesheet\" href=\"https://maxcdn.bootstrapcdn.com/bootstrap/3.3.7/css/bootstrap.min.css\">\n",
       "<script type=\"text/javascript\" src=\"http://dub-tatwan10.corp.microstrategy.com:8080/MicroStrategyLibrary/javascript/embeddinglib.js\"></script>\n",
       "<h2> Embedding an Interactive Dossier </h2>\n",
       "<div id=\"dossier1\"></div>\n",
       "\n",
       "<script>\n",
       "//NOTE: we use our projectID and libraryId values and use them in the javaScript variables below\n",
       "\n",
       "var project = 'B19DEDCC11D4E0EFC000EB9495D0F44F'\n",
       "var library = '512EDAA1487128DBBCA43E8525E10A11'\n",
       "\n",
       "var container = document.getElementById(\"dossier1\"),\n",
       " \n",
       "    url = \"http://dub-tatwan10.corp.microstrategy.com:8080/MicroStrategyLibrary/app/\" + project + '/' + library;\n",
       " \n",
       "    microstrategy.dossier.create({\n",
       " \n",
       "          url: url,\n",
       " \n",
       "          enableResponsive: true,\n",
       " \n",
       "          placeholder: container\n",
       "       })\n",
       "    \n",
       "</script>"
      ],
      "text/plain": [
       "<IPython.core.display.HTML object>"
      ]
     },
     "metadata": {},
     "output_type": "display_data"
    }
   ],
   "source": [
    "%%html\n",
    "\n",
    "<link rel=\"stylesheet\" href=\"https://maxcdn.bootstrapcdn.com/bootstrap/3.3.7/css/bootstrap.min.css\">\n",
    "<script type=\"text/javascript\" src=\"http://yourMstrEnv/MicroStrategyLibrary/javascript/embeddinglib.js\"></script>\n",
    "<h2> Embedding an Interactive Dossier </h2>\n",
    "<div id=\"dossier1\"></div>\n",
    "\n",
    "<script>\n",
    "//NOTE: we use our projectID and libraryId values and use them in the javaScript variables below\n",
    "\n",
    "var project = 'B19DEDCC11D4E0EFC000EB9495D0F44F'\n",
    "var library = '512EDAA1487128DBBCA43E8525E10A11'\n",
    "\n",
    "var container = document.getElementById(\"dossier1\"),\n",
    " \n",
    "    url = \"http://yourMstrEnv/MicroStrategyLibrary/app/\" + project + '/' + library;\n",
    " \n",
    "    microstrategy.dossier.create({\n",
    " \n",
    "          url: url,\n",
    " \n",
    "          enableResponsive: true,\n",
    " \n",
    "          placeholder: container\n",
    "       })\n",
    "    \n",
    "</script>"
   ]
  },
  {
   "cell_type": "code",
   "execution_count": null,
   "metadata": {},
   "outputs": [],
   "source": []
  }
 ],
 "metadata": {
  "kernelspec": {
   "display_name": "Python 3",
   "language": "python",
   "name": "python3"
  },
  "language_info": {
   "codemirror_mode": {
    "name": "ipython",
    "version": 3
   },
   "file_extension": ".py",
   "mimetype": "text/x-python",
   "name": "python",
   "nbconvert_exporter": "python",
   "pygments_lexer": "ipython3",
   "version": "3.6.4"
  }
 },
 "nbformat": 4,
 "nbformat_minor": 2
}
